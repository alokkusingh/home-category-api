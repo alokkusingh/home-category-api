{
 "cells": [
  {
   "cell_type": "code",
   "execution_count": 54,
   "id": "d25c8d72",
   "metadata": {},
   "outputs": [],
   "source": [
    "import joblib"
   ]
  },
  {
   "cell_type": "code",
   "execution_count": 85,
   "id": "96156676",
   "metadata": {},
   "outputs": [
    {
     "data": {
      "text/plain": [
       "array(['Grocery'], dtype=object)"
      ]
     },
     "execution_count": 85,
     "metadata": {},
     "output_type": "execute_result"
    }
   ],
   "source": [
    "model = joblib.load(\"/Users/aloksingh/git/home-category-api/model/expense-categorization-mdl.joblib\");\n",
    "count_vect = joblib.load(\"/Users/aloksingh/git/home-category-api/model/expense-categorization-vct.joblib\");\n",
    "\n",
    "model.predict(count_vect.transform([\"Electronic item\"]).toarray())\n"
   ]
  },
  {
   "cell_type": "code",
   "execution_count": null,
   "id": "44c33ffb",
   "metadata": {},
   "outputs": [],
   "source": []
  },
  {
   "cell_type": "code",
   "execution_count": null,
   "id": "55921c4a",
   "metadata": {},
   "outputs": [],
   "source": []
  },
  {
   "cell_type": "code",
   "execution_count": null,
   "id": "301cda59",
   "metadata": {},
   "outputs": [],
   "source": []
  }
 ],
 "metadata": {
  "kernelspec": {
   "display_name": "Python 3 (ipykernel)",
   "language": "python",
   "name": "python3"
  },
  "language_info": {
   "codemirror_mode": {
    "name": "ipython",
    "version": 3
   },
   "file_extension": ".py",
   "mimetype": "text/x-python",
   "name": "python",
   "nbconvert_exporter": "python",
   "pygments_lexer": "ipython3",
   "version": "3.11.5"
  }
 },
 "nbformat": 4,
 "nbformat_minor": 5
}
